{
  "nbformat": 4,
  "nbformat_minor": 0,
  "metadata": {
    "colab": {
      "provenance": []
    },
    "kernelspec": {
      "name": "python3",
      "display_name": "Python 3"
    },
    "language_info": {
      "name": "python"
    }
  },
  "cells": [
    {
      "cell_type": "code",
      "source": [
        "import pandas as pd\n",
        "import numpy as np\n",
        "\n",
        "\n",
        "data = np.random.rand(4, 4)\n",
        "\n",
        "df = pd.DataFrame(data, columns=['Feature1', 'Feature2', 'Feature3', 'Feature4'])\n",
        "\n",
        "print(df)"
      ],
      "metadata": {
        "colab": {
          "base_uri": "https://localhost:8080/"
        },
        "id": "aKFkq3LUrtbg",
        "outputId": "0f4b710f-19b5-4e17-f389-bb581a02433a"
      },
      "execution_count": 9,
      "outputs": [
        {
          "output_type": "stream",
          "name": "stdout",
          "text": [
            "   Feature1  Feature2  Feature3  Feature4\n",
            "0  0.960451  0.134476  0.301011  0.223708\n",
            "1  0.493235  0.960353  0.841586  0.839890\n",
            "2  0.535185  0.765246  0.832231  0.299484\n",
            "3  0.781071  0.974792  0.437253  0.752435\n"
          ]
        }
      ]
    },
    {
      "cell_type": "code",
      "source": [
        "new_column_names = {\n",
        "    'Feature1': 'Random value 1',\n",
        "    'Feature2': 'Random value 2',\n",
        "    'Feature3': 'Random value 3',\n",
        "    'Feature4': 'Random value 4'\n",
        "}\n",
        "\n",
        "df.rename(columns=new_column_names, inplace=True)\n",
        "\n",
        "print(df)"
      ],
      "metadata": {
        "colab": {
          "base_uri": "https://localhost:8080/"
        },
        "id": "8R9iFJ2_r6Ev",
        "outputId": "3217976f-bbfd-494a-ae92-00d3f396f9fa"
      },
      "execution_count": 10,
      "outputs": [
        {
          "output_type": "stream",
          "name": "stdout",
          "text": [
            "   Random value 1  Random value 2  Random value 3  Random value 4\n",
            "0        0.960451        0.134476        0.301011        0.223708\n",
            "1        0.493235        0.960353        0.841586        0.839890\n",
            "2        0.535185        0.765246        0.832231        0.299484\n",
            "3        0.781071        0.974792        0.437253        0.752435\n"
          ]
        }
      ]
    },
    {
      "cell_type": "code",
      "source": [
        "statistics = df.describe()\n",
        "\n",
        "print(statistics)"
      ],
      "metadata": {
        "colab": {
          "base_uri": "https://localhost:8080/"
        },
        "id": "GeylYeZJsEfz",
        "outputId": "90ce6e61-c626-4a63-a22c-36f1bf9c0c40"
      },
      "execution_count": 11,
      "outputs": [
        {
          "output_type": "stream",
          "name": "stdout",
          "text": [
            "       Random value 1  Random value 2  Random value 3  Random value 4\n",
            "count        4.000000        4.000000        4.000000        4.000000\n",
            "mean         0.692485        0.708717        0.603020        0.528879\n",
            "std          0.219163        0.394574        0.275765        0.312227\n",
            "min          0.493235        0.134476        0.301011        0.223708\n",
            "25%          0.524697        0.607554        0.403192        0.280540\n",
            "50%          0.658128        0.862800        0.634742        0.525960\n",
            "75%          0.825916        0.963963        0.834570        0.774299\n",
            "max          0.960451        0.974792        0.841586        0.839890\n"
          ]
        }
      ]
    },
    {
      "cell_type": "code",
      "source": [
        "null_values = df.isnull()\n",
        "\n",
        "data_types = df.dtypes\n",
        "\n",
        "print(\"Null values:\")\n",
        "print(null_values)\n",
        "print(\"\\nData types:\")\n",
        "print(data_types)"
      ],
      "metadata": {
        "colab": {
          "base_uri": "https://localhost:8080/"
        },
        "id": "40g7dQBDsemI",
        "outputId": "cc77b314-263c-4c3b-87ca-54b8487b116c"
      },
      "execution_count": 12,
      "outputs": [
        {
          "output_type": "stream",
          "name": "stdout",
          "text": [
            "Null values:\n",
            "   Random value 1  Random value 2  Random value 3  Random value 4\n",
            "0           False           False           False           False\n",
            "1           False           False           False           False\n",
            "2           False           False           False           False\n",
            "3           False           False           False           False\n",
            "\n",
            "Data types:\n",
            "Random value 1    float64\n",
            "Random value 2    float64\n",
            "Random value 3    float64\n",
            "Random value 4    float64\n",
            "dtype: object\n"
          ]
        }
      ]
    },
    {
      "cell_type": "code",
      "source": [
        "print(\"Using .loc[]:\")\n",
        "print(df.loc[:, ['Random value 2', 'Random value 3']])\n",
        "\n",
        "print(\"\\nUsing .iloc[]:\")\n",
        "print(df.iloc[:, [1, 2]])"
      ],
      "metadata": {
        "colab": {
          "base_uri": "https://localhost:8080/"
        },
        "id": "4Nzpkiq4sqRX",
        "outputId": "baebf0ed-a83c-435f-d45f-ca1e73ac04ce"
      },
      "execution_count": 14,
      "outputs": [
        {
          "output_type": "stream",
          "name": "stdout",
          "text": [
            "Using .loc[]:\n",
            "   Random value 2  Random value 3\n",
            "0        0.134476        0.301011\n",
            "1        0.960353        0.841586\n",
            "2        0.765246        0.832231\n",
            "3        0.974792        0.437253\n",
            "\n",
            "Using .iloc[]:\n",
            "   Random value 2  Random value 3\n",
            "0        0.134476        0.301011\n",
            "1        0.960353        0.841586\n",
            "2        0.765246        0.832231\n",
            "3        0.974792        0.437253\n"
          ]
        }
      ]
    }
  ]
}